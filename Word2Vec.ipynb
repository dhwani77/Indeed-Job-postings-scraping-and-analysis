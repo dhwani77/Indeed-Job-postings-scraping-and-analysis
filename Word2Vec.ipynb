{
 "cells": [
  {
   "cell_type": "code",
   "execution_count": 1,
   "metadata": {},
   "outputs": [],
   "source": [
    "import re  # For preprocessing\n",
    "import pandas as pd  # For data handling\n",
    "from time import time  # To time our operations\n",
    "from collections import defaultdict  # For word frequency\n",
    "\n"
   ]
  },
  {
   "cell_type": "code",
   "execution_count": null,
   "metadata": {},
   "outputs": [],
   "source": [
    "# ! pip install --upgrade gensim"
   ]
  },
  {
   "cell_type": "code",
   "execution_count": 2,
   "metadata": {},
   "outputs": [],
   "source": [
    "import gensim \n",
    "from gensim.models import Word2Vec \n",
    "import multiprocessing\n"
   ]
  },
  {
   "cell_type": "code",
   "execution_count": 3,
   "metadata": {},
   "outputs": [],
   "source": [
    "from gensim.models.phrases import Phrases, Phraser\n"
   ]
  },
  {
   "cell_type": "code",
   "execution_count": 4,
   "metadata": {},
   "outputs": [],
   "source": [
    "import nltk\n",
    "from nltk.util import ngrams\n"
   ]
  },
  {
   "cell_type": "code",
   "execution_count": 5,
   "metadata": {},
   "outputs": [],
   "source": [
    "# data preprocessing\n",
    "df = pd.read_csv('cleaned_combined_jobs_data.csv')\n",
    "df.shape\n",
    "description = df['description_cleaned'].dropna()\n"
   ]
  },
  {
   "cell_type": "code",
   "execution_count": 6,
   "metadata": {},
   "outputs": [
    {
     "data": {
      "text/html": [
       "<div>\n",
       "<style scoped>\n",
       "    .dataframe tbody tr th:only-of-type {\n",
       "        vertical-align: middle;\n",
       "    }\n",
       "\n",
       "    .dataframe tbody tr th {\n",
       "        vertical-align: top;\n",
       "    }\n",
       "\n",
       "    .dataframe thead th {\n",
       "        text-align: right;\n",
       "    }\n",
       "</style>\n",
       "<table border=\"1\" class=\"dataframe\">\n",
       "  <thead>\n",
       "    <tr style=\"text-align: right;\">\n",
       "      <th></th>\n",
       "      <th>Unnamed: 0</th>\n",
       "      <th>JobTitle</th>\n",
       "      <th>SalaryEstimate</th>\n",
       "      <th>JobDescription</th>\n",
       "      <th>Rating</th>\n",
       "      <th>Company.Name</th>\n",
       "      <th>Location</th>\n",
       "      <th>Headquarters</th>\n",
       "      <th>Size</th>\n",
       "      <th>Founded</th>\n",
       "      <th>Type.of.ownership</th>\n",
       "      <th>Industry</th>\n",
       "      <th>Sector</th>\n",
       "      <th>Revenue</th>\n",
       "      <th>Competitors</th>\n",
       "      <th>Easy.Apply</th>\n",
       "      <th>description_cleaned</th>\n",
       "    </tr>\n",
       "  </thead>\n",
       "  <tbody>\n",
       "    <tr>\n",
       "      <th>0</th>\n",
       "      <td>0</td>\n",
       "      <td>Senior Data Scientist</td>\n",
       "      <td>$111K-$181K (Glassdoor est.)</td>\n",
       "      <td>ABOUT HOPPER\\r\\n\\r\\nAt Hopper, we’re on a miss...</td>\n",
       "      <td>3.5</td>\n",
       "      <td>Hopper\\r\\n3.5</td>\n",
       "      <td>New York, NY</td>\n",
       "      <td>Montreal, Canada</td>\n",
       "      <td>501 to 1000 employees</td>\n",
       "      <td>2007</td>\n",
       "      <td>Company - Private</td>\n",
       "      <td>Travel Agencies</td>\n",
       "      <td>Travel &amp; Tourism</td>\n",
       "      <td>Unknown / Non-Applicable</td>\n",
       "      <td>-1</td>\n",
       "      <td>-1</td>\n",
       "      <td>about hopper    at hopper  we re on a mission ...</td>\n",
       "    </tr>\n",
       "    <tr>\n",
       "      <th>1</th>\n",
       "      <td>1</td>\n",
       "      <td>Data Scientist, Product Analytics</td>\n",
       "      <td>$111K-$181K (Glassdoor est.)</td>\n",
       "      <td>At Noom, we use scientifically proven methods ...</td>\n",
       "      <td>4.5</td>\n",
       "      <td>Noom US\\r\\n4.5</td>\n",
       "      <td>New York, NY</td>\n",
       "      <td>New York, NY</td>\n",
       "      <td>1001 to 5000 employees</td>\n",
       "      <td>2008</td>\n",
       "      <td>Company - Private</td>\n",
       "      <td>Health, Beauty, &amp; Fitness</td>\n",
       "      <td>Consumer Services</td>\n",
       "      <td>Unknown / Non-Applicable</td>\n",
       "      <td>-1</td>\n",
       "      <td>-1</td>\n",
       "      <td>at noom  we use scientifically proven methods ...</td>\n",
       "    </tr>\n",
       "    <tr>\n",
       "      <th>2</th>\n",
       "      <td>2</td>\n",
       "      <td>Data Science Manager</td>\n",
       "      <td>$111K-$181K (Glassdoor est.)</td>\n",
       "      <td>Decode_M\\r\\n\\r\\nhttps://www.decode-m.com/\\r\\n\\...</td>\n",
       "      <td>-1</td>\n",
       "      <td>Decode_M</td>\n",
       "      <td>New York, NY</td>\n",
       "      <td>New York, NY</td>\n",
       "      <td>1 to 50 employees</td>\n",
       "      <td>-1</td>\n",
       "      <td>Unknown</td>\n",
       "      <td>-1</td>\n",
       "      <td>-1</td>\n",
       "      <td>Unknown / Non-Applicable</td>\n",
       "      <td>-1</td>\n",
       "      <td>TRUE</td>\n",
       "      <td>decode m    https   www decode m com     data ...</td>\n",
       "    </tr>\n",
       "    <tr>\n",
       "      <th>3</th>\n",
       "      <td>3</td>\n",
       "      <td>Data Analyst</td>\n",
       "      <td>$111K-$181K (Glassdoor est.)</td>\n",
       "      <td>Sapphire Digital seeks a dynamic and driven mi...</td>\n",
       "      <td>3.4</td>\n",
       "      <td>Sapphire Digital\\r\\n3.4</td>\n",
       "      <td>Lyndhurst, NJ</td>\n",
       "      <td>Lyndhurst, NJ</td>\n",
       "      <td>201 to 500 employees</td>\n",
       "      <td>2019</td>\n",
       "      <td>Company - Private</td>\n",
       "      <td>Internet</td>\n",
       "      <td>Information Technology</td>\n",
       "      <td>Unknown / Non-Applicable</td>\n",
       "      <td>Zocdoc, Healthgrades</td>\n",
       "      <td>-1</td>\n",
       "      <td>sapphire digital seeks a dynamic and driven mi...</td>\n",
       "    </tr>\n",
       "    <tr>\n",
       "      <th>4</th>\n",
       "      <td>4</td>\n",
       "      <td>Director, Data Science</td>\n",
       "      <td>$111K-$181K (Glassdoor est.)</td>\n",
       "      <td>Director, Data Science - (200537)\\r\\nDescripti...</td>\n",
       "      <td>3.4</td>\n",
       "      <td>United Entertainment Group\\r\\n3.4</td>\n",
       "      <td>New York, NY</td>\n",
       "      <td>New York, NY</td>\n",
       "      <td>51 to 200 employees</td>\n",
       "      <td>2007</td>\n",
       "      <td>Company - Private</td>\n",
       "      <td>Advertising &amp; Marketing</td>\n",
       "      <td>Business Services</td>\n",
       "      <td>Unknown / Non-Applicable</td>\n",
       "      <td>BBDO, Grey Group, Droga5</td>\n",
       "      <td>-1</td>\n",
       "      <td>director  data science             description...</td>\n",
       "    </tr>\n",
       "  </tbody>\n",
       "</table>\n",
       "</div>"
      ],
      "text/plain": [
       "   Unnamed: 0                           JobTitle  \\\n",
       "0           0              Senior Data Scientist   \n",
       "1           1  Data Scientist, Product Analytics   \n",
       "2           2               Data Science Manager   \n",
       "3           3                       Data Analyst   \n",
       "4           4             Director, Data Science   \n",
       "\n",
       "                 SalaryEstimate  \\\n",
       "0  $111K-$181K (Glassdoor est.)   \n",
       "1  $111K-$181K (Glassdoor est.)   \n",
       "2  $111K-$181K (Glassdoor est.)   \n",
       "3  $111K-$181K (Glassdoor est.)   \n",
       "4  $111K-$181K (Glassdoor est.)   \n",
       "\n",
       "                                      JobDescription Rating  \\\n",
       "0  ABOUT HOPPER\\r\\n\\r\\nAt Hopper, we’re on a miss...    3.5   \n",
       "1  At Noom, we use scientifically proven methods ...    4.5   \n",
       "2  Decode_M\\r\\n\\r\\nhttps://www.decode-m.com/\\r\\n\\...     -1   \n",
       "3  Sapphire Digital seeks a dynamic and driven mi...    3.4   \n",
       "4  Director, Data Science - (200537)\\r\\nDescripti...    3.4   \n",
       "\n",
       "                        Company.Name       Location      Headquarters  \\\n",
       "0                      Hopper\\r\\n3.5   New York, NY  Montreal, Canada   \n",
       "1                     Noom US\\r\\n4.5   New York, NY      New York, NY   \n",
       "2                           Decode_M   New York, NY      New York, NY   \n",
       "3            Sapphire Digital\\r\\n3.4  Lyndhurst, NJ     Lyndhurst, NJ   \n",
       "4  United Entertainment Group\\r\\n3.4   New York, NY      New York, NY   \n",
       "\n",
       "                     Size Founded  Type.of.ownership  \\\n",
       "0   501 to 1000 employees    2007  Company - Private   \n",
       "1  1001 to 5000 employees    2008  Company - Private   \n",
       "2       1 to 50 employees      -1            Unknown   \n",
       "3    201 to 500 employees    2019  Company - Private   \n",
       "4     51 to 200 employees    2007  Company - Private   \n",
       "\n",
       "                    Industry                  Sector  \\\n",
       "0            Travel Agencies        Travel & Tourism   \n",
       "1  Health, Beauty, & Fitness       Consumer Services   \n",
       "2                         -1                      -1   \n",
       "3                   Internet  Information Technology   \n",
       "4    Advertising & Marketing       Business Services   \n",
       "\n",
       "                    Revenue               Competitors Easy.Apply  \\\n",
       "0  Unknown / Non-Applicable                        -1         -1   \n",
       "1  Unknown / Non-Applicable                        -1         -1   \n",
       "2  Unknown / Non-Applicable                        -1       TRUE   \n",
       "3  Unknown / Non-Applicable      Zocdoc, Healthgrades         -1   \n",
       "4  Unknown / Non-Applicable  BBDO, Grey Group, Droga5         -1   \n",
       "\n",
       "                                 description_cleaned  \n",
       "0  about hopper    at hopper  we re on a mission ...  \n",
       "1  at noom  we use scientifically proven methods ...  \n",
       "2  decode m    https   www decode m com     data ...  \n",
       "3  sapphire digital seeks a dynamic and driven mi...  \n",
       "4  director  data science             description...  "
      ]
     },
     "execution_count": 6,
     "metadata": {},
     "output_type": "execute_result"
    }
   ],
   "source": [
    "df.head(5)"
   ]
  },
  {
   "cell_type": "code",
   "execution_count": 7,
   "metadata": {},
   "outputs": [
    {
     "name": "stdout",
     "output_type": "stream",
     "text": [
      "0        about hopper    at hopper  we re on a mission ...\n",
      "1        at noom  we use scientifically proven methods ...\n",
      "2        decode m    https   www decode m com     data ...\n",
      "3        sapphire digital seeks a dynamic and driven mi...\n",
      "4        director  data science             description...\n",
      "                               ...                        \n",
      "10249    maintains systems to protect data from unautho...\n",
      "10250    position   senior data analyst  corporate audi...\n",
      "10251    title  technical business analyst  sql  data a...\n",
      "10252    summary    responsible for working cross funct...\n",
      "10253    you     you bring your body  mind  heart and s...\n",
      "Name: description_cleaned, Length: 10253, dtype: object\n"
     ]
    }
   ],
   "source": [
    "print(description)"
   ]
  },
  {
   "cell_type": "code",
   "execution_count": 8,
   "metadata": {},
   "outputs": [],
   "source": [
    "cores = multiprocessing.cpu_count() # Count the number of cores in a computer\n"
   ]
  },
  {
   "cell_type": "code",
   "execution_count": 18,
   "metadata": {},
   "outputs": [],
   "source": [
    "# set up the parameter of the word2vec model\n",
    "w2v_model = Word2Vec(min_count=50,\n",
    "                     window=2,\n",
    "                     size=300,\n",
    "                     sample=6e-5, \n",
    "                     alpha=0.03, \n",
    "                     min_alpha=0.0007, \n",
    "                     negative=20,\n",
    "                     workers=cores-1)"
   ]
  },
  {
   "cell_type": "code",
   "execution_count": 19,
   "metadata": {},
   "outputs": [],
   "source": [
    "# bigrams\n",
    "sent = [row.split() for row in description]\n",
    "phrases = Phrases(sent, min_count=30, progress_per=10000)\n",
    "bigram = Phraser(phrases)\n",
    "sentences = bigram[sent]\n",
    "\n"
   ]
  },
  {
   "cell_type": "code",
   "execution_count": 20,
   "metadata": {},
   "outputs": [
    {
     "data": {
      "text/plain": [
       "38787"
      ]
     },
     "execution_count": 20,
     "metadata": {},
     "output_type": "execute_result"
    }
   ],
   "source": [
    "# most frequent words\n",
    "word_freq = defaultdict(int)\n",
    "for sent in sentences:\n",
    "    for i in sent:\n",
    "        word_freq[i] += 1\n",
    "len(word_freq)"
   ]
  },
  {
   "cell_type": "code",
   "execution_count": 21,
   "metadata": {},
   "outputs": [
    {
     "data": {
      "text/plain": [
       "['and', 'to', 'the', 'of', 'in', 'data', 'a', 'with', 'for', 'experience']"
      ]
     },
     "execution_count": 21,
     "metadata": {},
     "output_type": "execute_result"
    }
   ],
   "source": [
    "sorted(word_freq, key=word_freq.get, reverse=True)[:10]\n"
   ]
  },
  {
   "cell_type": "code",
   "execution_count": 22,
   "metadata": {},
   "outputs": [],
   "source": [
    "# build the vocabulary of the model\n",
    "t = time()\n",
    "\n",
    "w2v_model.build_vocab(sentences, progress_per=10000)\n",
    "\n"
   ]
  },
  {
   "cell_type": "code",
   "execution_count": 23,
   "metadata": {},
   "outputs": [
    {
     "data": {
      "text/plain": [
       "(53154561, 129878190)"
      ]
     },
     "execution_count": 23,
     "metadata": {},
     "output_type": "execute_result"
    }
   ],
   "source": [
    "# train the model\n",
    "t = time()\n",
    "\n",
    "w2v_model.train(sentences, total_examples=w2v_model.corpus_count, epochs=30, report_delay=1)\n",
    "\n"
   ]
  },
  {
   "cell_type": "code",
   "execution_count": 24,
   "metadata": {},
   "outputs": [],
   "source": [
    "# calling init_sims()to make the model much more memory-efficient:\n",
    "w2v_model.init_sims(replace=True)\n"
   ]
  },
  {
   "cell_type": "code",
   "execution_count": 25,
   "metadata": {},
   "outputs": [
    {
     "data": {
      "text/plain": [
       "[('analytics', 0.5672853589057922),\n",
       " ('sets', 0.5247077345848083),\n",
       " ('analysis', 0.524539589881897),\n",
       " ('reporting', 0.5168337821960449),\n",
       " ('using', 0.5088383555412292),\n",
       " ('models', 0.5065914988517761),\n",
       " ('sources', 0.5033448338508606),\n",
       " ('datasets', 0.4979720711708069),\n",
       " ('tools', 0.4887539744377136),\n",
       " ('pipelines', 0.4813288450241089)]"
      ]
     },
     "execution_count": 25,
     "metadata": {},
     "output_type": "execute_result"
    }
   ],
   "source": [
    "# input key words\n",
    "w2v_model.wv.most_similar(positive=[\"data\"])\n",
    "\n",
    "# show your ability to develop your own data pipeline to move raw data from a source to a destination . \n",
    "# The destination is where the data is analyzed for business insights.\n"
   ]
  },
  {
   "cell_type": "code",
   "execution_count": 26,
   "metadata": {},
   "outputs": [
    {
     "data": {
      "text/plain": [
       "[('python', 0.6370193958282471),\n",
       " ('tableau', 0.6035563945770264),\n",
       " ('sql_server', 0.5966885089874268),\n",
       " ('sas', 0.5875258445739746),\n",
       " ('etl', 0.5672693252563477),\n",
       " ('sql_queries', 0.5612906813621521),\n",
       " ('r', 0.5506023168563843),\n",
       " ('excel', 0.5472790002822876),\n",
       " ('sas_r', 0.5463905334472656),\n",
       " ('relational_databases', 0.5433073043823242)]"
      ]
     },
     "execution_count": 26,
     "metadata": {},
     "output_type": "execute_result"
    }
   ],
   "source": [
    "w2v_model.wv.most_similar(positive=[\"sql\"])\n",
    "\n",
    "# sql related skills included in resume: python, tableau, sas, r, excel, databases"
   ]
  },
  {
   "cell_type": "code",
   "execution_count": 46,
   "metadata": {},
   "outputs": [
    {
     "data": {
      "text/plain": [
       "[('python_r', 0.6625280380249023),\n",
       " ('sql', 0.6370193958282471),\n",
       " ('python_java', 0.6344974637031555),\n",
       " ('r', 0.6047457456588745),\n",
       " ('java_scala', 0.603253185749054),\n",
       " ('programming', 0.5989794731140137),\n",
       " ('python_scala', 0.5900561809539795),\n",
       " ('pyspark', 0.5864248871803284),\n",
       " ('languages_such', 0.5859144330024719),\n",
       " ('scala', 0.584870457649231)]"
      ]
     },
     "execution_count": 46,
     "metadata": {},
     "output_type": "execute_result"
    }
   ],
   "source": [
    "w2v_model.wv.most_similar(positive=[\"python\"])\n",
    "\n",
    "# python related skills included in resume: r, sql, java, pyspark"
   ]
  },
  {
   "cell_type": "code",
   "execution_count": 48,
   "metadata": {},
   "outputs": [
    {
     "data": {
      "text/plain": [
       "[('global_leader', 0.4766501784324646),\n",
       " ('ibmers_serving', 0.40292245149612427),\n",
       " ('countries_location', 0.3909544348716736),\n",
       " ('disrupt', 0.38372525572776794),\n",
       " ('nd_century', 0.3729187846183777),\n",
       " ('consulting', 0.37085938453674316),\n",
       " ('staffing', 0.3646043837070465),\n",
       " ('ntt', 0.361350953578949),\n",
       " ('accenture_federal', 0.3503355085849762),\n",
       " ('disney_streaming', 0.3490871489048004)]"
      ]
     },
     "execution_count": 48,
     "metadata": {},
     "output_type": "execute_result"
    }
   ],
   "source": [
    "w2v_model.wv.most_similar(positive=[\"staffigo\"])\n"
   ]
  },
  {
   "cell_type": "code",
   "execution_count": 31,
   "metadata": {},
   "outputs": [
    {
     "data": {
      "text/plain": [
       "[('reinforcement_learning', 0.383495032787323),\n",
       " ('vector', 0.3684707283973694),\n",
       " ('bayesian', 0.35157138109207153),\n",
       " ('deep_learning', 0.34417200088500977),\n",
       " ('computers', 0.3428729772567749),\n",
       " ('boosting', 0.3314419984817505),\n",
       " ('text_mining', 0.32837897539138794),\n",
       " ('computer', 0.3265228271484375),\n",
       " ('image_processing', 0.32563281059265137),\n",
       " ('natural_language', 0.32401445508003235)]"
      ]
     },
     "execution_count": 31,
     "metadata": {},
     "output_type": "execute_result"
    }
   ],
   "source": [
    "w2v_model.wv.most_similar(positive=[\"machine\"])\n"
   ]
  },
  {
   "cell_type": "code",
   "execution_count": 27,
   "metadata": {},
   "outputs": [
    {
     "data": {
      "text/plain": [
       "[('preferred', 0.6454149484634399),\n",
       " ('minimum', 0.6383762955665588),\n",
       " ('qualifications', 0.5970038175582886),\n",
       " ('or', 0.5497605800628662),\n",
       " ('or_equivalent', 0.5461472272872925),\n",
       " ('related_field', 0.5359395742416382),\n",
       " ('degree', 0.5336716175079346),\n",
       " ('related', 0.5274271965026855),\n",
       " ('experience', 0.5252817273139954),\n",
       " ('years', 0.5193190574645996)]"
      ]
     },
     "execution_count": 27,
     "metadata": {},
     "output_type": "execute_result"
    }
   ],
   "source": [
    "w2v_model.wv.most_similar(positive=[\"required\"])\n",
    "# specific ml algorithms: reinforcement_learning, deal with vectors, bayesian related algorithms, deep_learning, text_mining, image_processing, NLP\n",
    "\n",
    "# qualification/ degree and experience matter most"
   ]
  },
  {
   "cell_type": "code",
   "execution_count": 47,
   "metadata": {},
   "outputs": [
    {
     "data": {
      "text/plain": [
       "[('related_field', 0.7417489886283875),\n",
       " ('computer_science', 0.7334764003753662),\n",
       " ('minimum', 0.6908020377159119),\n",
       " ('bachelor_s', 0.6806066632270813),\n",
       " ('finance_economics', 0.6628279089927673),\n",
       " ('or_equivalent', 0.6543084979057312),\n",
       " ('related_discipline', 0.6404116749763489),\n",
       " ('economics_finance', 0.6378796100616455),\n",
       " ('master_s', 0.6327531337738037),\n",
       " ('years', 0.6293987035751343)]"
      ]
     },
     "execution_count": 47,
     "metadata": {},
     "output_type": "execute_result"
    }
   ],
   "source": [
    "w2v_model.wv.most_similar(positive=[\"degree\"])\n",
    "# degree requirements"
   ]
  },
  {
   "cell_type": "code",
   "execution_count": 29,
   "metadata": {},
   "outputs": [
    {
     "data": {
      "text/plain": [
       "[('years', 0.8309797048568726),\n",
       " ('preferred', 0.7640348076820374),\n",
       " ('preferably', 0.6805927753448486),\n",
       " ('minimum', 0.664563775062561),\n",
       " ('plus', 0.6520195007324219),\n",
       " ('or_equivalent', 0.6492597460746765),\n",
       " ('hands_on', 0.6452623605728149),\n",
       " ('similar', 0.6380330324172974),\n",
       " ('related_field', 0.6343466639518738),\n",
       " ('at_least', 0.6137567162513733)]"
      ]
     },
     "execution_count": 29,
     "metadata": {},
     "output_type": "execute_result"
    }
   ],
   "source": [
    "w2v_model.wv.most_similar(positive=[\"experience\"])\n",
    "# experience preferred\n"
   ]
  },
  {
   "cell_type": "code",
   "execution_count": 32,
   "metadata": {},
   "outputs": [
    {
     "data": {
      "text/plain": [
       "[('cloud_based', 0.6046124696731567),\n",
       " ('microsoft_azure', 0.5427299737930298),\n",
       " ('on_premise', 0.5403303503990173),\n",
       " ('amazon_web', 0.5395830869674683),\n",
       " ('azure', 0.522074818611145),\n",
       " ('aws_azure', 0.5219202637672424),\n",
       " ('aws', 0.5188604593276978),\n",
       " ('cloud_computing', 0.5052876472473145),\n",
       " ('google_cloud', 0.4945797920227051),\n",
       " ('gcp', 0.4886273741722107)]"
      ]
     },
     "execution_count": 32,
     "metadata": {},
     "output_type": "execute_result"
    }
   ],
   "source": [
    "w2v_model.wv.most_similar(positive=[\"cloud\"])\n",
    "# aws and google cloud"
   ]
  },
  {
   "cell_type": "code",
   "execution_count": 40,
   "metadata": {},
   "outputs": [
    {
     "data": {
      "text/plain": [
       "[('problem_solving', 0.7218472957611084),\n",
       " ('strong', 0.6830064058303833),\n",
       " ('interpersonal_skills', 0.6514632105827332),\n",
       " ('excellent', 0.6427369713783264),\n",
       " ('presentation_skills', 0.6413192749023438),\n",
       " ('organizational_skills', 0.6064302921295166),\n",
       " ('ability', 0.6013692617416382),\n",
       " ('communication_skills', 0.6003636121749878),\n",
       " ('abilities', 0.5891449451446533),\n",
       " ('interpersonal', 0.5771859884262085)]"
      ]
     },
     "execution_count": 40,
     "metadata": {},
     "output_type": "execute_result"
    }
   ],
   "source": [
    "w2v_model.wv.most_similar(positive=[\"skills\"])\n",
    "# communication, interpersonal, organization and presentation skills are important"
   ]
  },
  {
   "cell_type": "code",
   "execution_count": null,
   "metadata": {},
   "outputs": [],
   "source": []
  }
 ],
 "metadata": {
  "kernelspec": {
   "display_name": "Python 3",
   "language": "python",
   "name": "python3"
  },
  "language_info": {
   "codemirror_mode": {
    "name": "ipython",
    "version": 3
   },
   "file_extension": ".py",
   "mimetype": "text/x-python",
   "name": "python",
   "nbconvert_exporter": "python",
   "pygments_lexer": "ipython3",
   "version": "3.8.5"
  }
 },
 "nbformat": 4,
 "nbformat_minor": 4
}
